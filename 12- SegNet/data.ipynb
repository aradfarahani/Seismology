{
 "cells": [
  {
   "cell_type": "code",
   "execution_count": 2,
   "id": "bd99d121-9234-4ee5-8b17-b762eb9c91ce",
   "metadata": {},
   "outputs": [
    {
     "data": {
      "text/plain": [
       "('large_waveforms.npy', 'large_labels.npy')"
      ]
     },
     "execution_count": 2,
     "metadata": {},
     "output_type": "execute_result"
    }
   ],
   "source": [
    "import numpy as np\n",
    "\n",
    "# Parameters for larger synthetic dataset\n",
    "num_samples = 50000  # Increased from 5,000 to 50,000 waveforms\n",
    "sampling_rate = 1000  # Hz (samples per second)\n",
    "duration = 4.0  # Increased from 2s to 4s\n",
    "num_points = int(sampling_rate * duration)  # Total samples per waveform\n",
    "\n",
    "# Generate synthetic dataset\n",
    "waveforms = np.zeros((num_samples, num_points), dtype=np.float32)\n",
    "labels = np.zeros(num_samples, dtype=np.int32)\n",
    "\n",
    "for i in range(num_samples):\n",
    "    time = np.linspace(0, duration, num_points)\n",
    "    trace = np.random.normal(0, 0.05, num_points)  # Background noise\n",
    "\n",
    "    # Random first-break time between 0.3s and 2.5s\n",
    "    first_break_time = np.random.uniform(0.3, 2.5)\n",
    "    first_break_index = int(first_break_time * sampling_rate)\n",
    "\n",
    "    # Add a simulated P-wave arrival (sudden energy increase)\n",
    "    trace[first_break_index:first_break_index + 50] += np.linspace(0, 1, 50)\n",
    "    trace[first_break_index + 50:first_break_index + 100] += np.linspace(1, 0, 50)\n",
    "\n",
    "    # Store waveform and label\n",
    "    waveforms[i] = trace\n",
    "    labels[i] = first_break_index  # First-break location in samples\n",
    "\n",
    "# Save dataset files\n",
    "waveform_file = \"large_waveforms.npy\"\n",
    "label_file = \"large_labels.npy\"\n",
    "\n",
    "np.save(waveform_file, waveforms)\n",
    "np.save(label_file, labels)\n",
    "\n",
    "# Return dataset file paths\n",
    "waveform_file, label_file\n"
   ]
  },
  {
   "cell_type": "code",
   "execution_count": 3,
   "id": "4892c0d1-6a39-4195-a95c-d8283b147400",
   "metadata": {},
   "outputs": [
    {
     "ename": "FileNotFoundError",
     "evalue": "[Errno 2] No such file or directory: '/mnt/data/large_waveforms.npy'",
     "output_type": "error",
     "traceback": [
      "\u001b[0;31m---------------------------------------------------------------------------\u001b[0m",
      "\u001b[0;31mFileNotFoundError\u001b[0m                         Traceback (most recent call last)",
      "Cell \u001b[0;32mIn[3], line 35\u001b[0m\n\u001b[1;32m     32\u001b[0m waveform_file \u001b[38;5;241m=\u001b[39m \u001b[38;5;124m\"\u001b[39m\u001b[38;5;124m/mnt/data/large_waveforms.npy\u001b[39m\u001b[38;5;124m\"\u001b[39m\n\u001b[1;32m     33\u001b[0m label_file \u001b[38;5;241m=\u001b[39m \u001b[38;5;124m\"\u001b[39m\u001b[38;5;124m/mnt/data/large_labels.npy\u001b[39m\u001b[38;5;124m\"\u001b[39m\n\u001b[0;32m---> 35\u001b[0m \u001b[43mnp\u001b[49m\u001b[38;5;241;43m.\u001b[39;49m\u001b[43msave\u001b[49m\u001b[43m(\u001b[49m\u001b[43mwaveform_file\u001b[49m\u001b[43m,\u001b[49m\u001b[43m \u001b[49m\u001b[43mwaveforms\u001b[49m\u001b[43m)\u001b[49m\n\u001b[1;32m     36\u001b[0m np\u001b[38;5;241m.\u001b[39msave(label_file, labels)\n\u001b[1;32m     38\u001b[0m \u001b[38;5;66;03m# Return dataset file paths\u001b[39;00m\n",
      "File \u001b[0;32m~/.local/lib/python3.10/site-packages/numpy/lib/npyio.py:542\u001b[0m, in \u001b[0;36msave\u001b[0;34m(file, arr, allow_pickle, fix_imports)\u001b[0m\n\u001b[1;32m    540\u001b[0m     \u001b[38;5;28;01mif\u001b[39;00m \u001b[38;5;129;01mnot\u001b[39;00m file\u001b[38;5;241m.\u001b[39mendswith(\u001b[38;5;124m'\u001b[39m\u001b[38;5;124m.npy\u001b[39m\u001b[38;5;124m'\u001b[39m):\n\u001b[1;32m    541\u001b[0m         file \u001b[38;5;241m=\u001b[39m file \u001b[38;5;241m+\u001b[39m \u001b[38;5;124m'\u001b[39m\u001b[38;5;124m.npy\u001b[39m\u001b[38;5;124m'\u001b[39m\n\u001b[0;32m--> 542\u001b[0m     file_ctx \u001b[38;5;241m=\u001b[39m \u001b[38;5;28;43mopen\u001b[39;49m\u001b[43m(\u001b[49m\u001b[43mfile\u001b[49m\u001b[43m,\u001b[49m\u001b[43m \u001b[49m\u001b[38;5;124;43m\"\u001b[39;49m\u001b[38;5;124;43mwb\u001b[39;49m\u001b[38;5;124;43m\"\u001b[39;49m\u001b[43m)\u001b[49m\n\u001b[1;32m    544\u001b[0m \u001b[38;5;28;01mwith\u001b[39;00m file_ctx \u001b[38;5;28;01mas\u001b[39;00m fid:\n\u001b[1;32m    545\u001b[0m     arr \u001b[38;5;241m=\u001b[39m np\u001b[38;5;241m.\u001b[39masanyarray(arr)\n",
      "\u001b[0;31mFileNotFoundError\u001b[0m: [Errno 2] No such file or directory: '/mnt/data/large_waveforms.npy'"
     ]
    }
   ],
   "source": [
    "# Re-run the dataset generation after execution state reset\n",
    "\n",
    "import numpy as np\n",
    "\n",
    "# Parameters for larger synthetic dataset\n",
    "num_samples = 50000  # Increased from 5,000 to 50,000 waveforms\n",
    "sampling_rate = 1000  # Hz (samples per second)\n",
    "duration = 4.0  # Increased from 2s to 4s\n",
    "num_points = int(sampling_rate * duration)  # Total samples per waveform\n",
    "\n",
    "# Generate synthetic dataset\n",
    "waveforms = np.zeros((num_samples, num_points), dtype=np.float32)\n",
    "labels = np.zeros(num_samples, dtype=np.int32)\n",
    "\n",
    "for i in range(num_samples):\n",
    "    time = np.linspace(0, duration, num_points)\n",
    "    trace = np.random.normal(0, 0.05, num_points)  # Background noise\n",
    "\n",
    "    # Random first-break time between 0.3s and 2.5s\n",
    "    first_break_time = np.random.uniform(0.3, 2.5)\n",
    "    first_break_index = int(first_break_time * sampling_rate)\n",
    "\n",
    "    # Add a simulated P-wave arrival (sudden energy increase)\n",
    "    trace[first_break_index:first_break_index + 50] += np.linspace(0, 1, 50)\n",
    "    trace[first_break_index + 50:first_break_index + 100] += np.linspace(1, 0, 50)\n",
    "\n",
    "    # Store waveform and label\n",
    "    waveforms[i] = trace\n",
    "    labels[i] = first_break_index  # First-break location in samples\n",
    "\n",
    "# Save dataset files\n",
    "waveform_file = \"/mnt/data/large_waveforms.npy\"\n",
    "label_file = \"/mnt/data/large_labels.npy\"\n",
    "\n",
    "np.save(waveform_file, waveforms)\n",
    "np.save(label_file, labels)\n",
    "\n",
    "# Return dataset file paths\n",
    "waveform_file, label_file\n"
   ]
  },
  {
   "cell_type": "code",
   "execution_count": null,
   "id": "3757503e-f916-4dea-9f93-d1014234b1e1",
   "metadata": {},
   "outputs": [],
   "source": []
  }
 ],
 "metadata": {
  "kernelspec": {
   "display_name": "Python 3 (ipykernel)",
   "language": "python",
   "name": "python3"
  },
  "language_info": {
   "codemirror_mode": {
    "name": "ipython",
    "version": 3
   },
   "file_extension": ".py",
   "mimetype": "text/x-python",
   "name": "python",
   "nbconvert_exporter": "python",
   "pygments_lexer": "ipython3",
   "version": "3.10.12"
  }
 },
 "nbformat": 4,
 "nbformat_minor": 5
}
